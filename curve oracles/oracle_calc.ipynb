{
 "cells": [
  {
   "attachments": {},
   "cell_type": "markdown",
   "metadata": {},
   "source": [
    "# crvUSD market oracles: wstETH\n",
    "\n",
    "The main function in terms of calculating the oracle price of the collateral is the internal function`_raw_price()` and `_ema_tvl()`.\n",
    "\n",
    "Every market has its own individual price oracle contract, which can be fetched by calling `price_oracle_contract` within the controller of the market. The [wstETH oracle](https://etherscan.io/address/0xc1793A29609ffFF81f10139fa0A7A444c9e106Ad#code) will be used for the purpose of this documentation. Please be aware that oracle contracts can vary based on the collateral token."
   ]
  },
  {
   "cell_type": "code",
   "execution_count": 69,
   "metadata": {},
   "outputs": [
    {
     "name": "stdout",
     "output_type": "stream",
     "text": [
      "WARNING: `port` setting is depreciated. Please use `host` key that includes the port.\n",
      "INFO: Starting 'Hardhat node' process.\n",
      "INFO: Connecting to existing Geth node at https://eth-mainnet.g.alchemy.com/[hidden].\n",
      "INFO: Stopping 'Hardhat node' process.\n"
     ]
    },
    {
     "data": {
      "text/plain": [
       "<hardhat chain_id=31337>"
      ]
     },
     "execution_count": 69,
     "metadata": {},
     "output_type": "execute_result"
    }
   ],
   "source": [
    "# importing ape and math + fork ethereum mainnet\n",
    "\n",
    "import ape\n",
    "from ape import chain, networks\n",
    "import math\n",
    "\n",
    "\n",
    "# fork eth mainnet\n",
    "ape.networks.parse_network_choice('ethereum:mainnet-fork').__enter__()"
   ]
  },
  {
   "cell_type": "markdown",
   "metadata": {},
   "source": [
    "\n",
    "`_ema_tvl()` calculates the exponential moving average of the total value locked of `TRICRYPTO[i]`. \n",
    "This value is later on used in the internal function `_raw_price()` to further compute the weighted price of the collateral.\n",
    "`_ema_tvl()` calculates the exponential moving average of the total value locked (TVL) for `TRICRYPTO[i]` and returns `last_tvl[i]`, which represents the Exponential Moving Average (EMA) of the TVL of the Tricrypto pool at index i. This variable is updated every time `price_w()` is called and $last_{timestamp} < block.timestamp$. If the latter condition is not met, it will simply return last_tvl.\n",
    "\n",
    "This function returns `last_tvl[i]`, which represents the ema tvl of the pool. This variable is updated everytime when calling `price_w()` and $last_{timestamp} < block.timestamp$.\n",
    "This value is subsequently used in the internal function `_raw_price()` to compute the weighted price of ETH.\n",
    "\n",
    "The function only re-calculates the ema tvl when $last_{timestamp} < block.timestamp$, otherwise it will just return `last_tvl` again as it is still the same timestamp. "
   ]
  },
  {
   "cell_type": "code",
   "execution_count": 70,
   "metadata": {},
   "outputs": [],
   "source": [
    "# contract addresses \n",
    "price_oracle_contract = ape.Contract('0xc1793A29609ffFF81f10139fa0A7A444c9e106Ad')\n",
    "TRICRYPTO = [\"0x7F86Bf177Dd4F3494b841a37e810A34dD56c829B\", \"0xf5f5B97624542D72A9E06f04804Bf81baA15e2B4\"]\n",
    "STABLESWAP = [\"0x4DEcE678ceceb27446b35C672dC7d61F30bAD69E\", \"0x390f3595bCa2Df7d23783dFd126427CCeb997BF4\"]\n",
    "STAKEDSWAP = ape.Contract(\"0x21E27a5E5513D6e65C4f830167390997aA84843a\")\n",
    "WSTETH = ape.Contract(\"0x7f39C581F595B53c5cb19bD0b3f8dA6c935E2Ca0\")\n",
    "stable_agg = ape.Contract(\"0x18672b1b0c623a30089A280Ed9256379fb0E4E62\")"
   ]
  },
  {
   "cell_type": "code",
   "execution_count": 71,
   "metadata": {},
   "outputs": [],
   "source": [
    "# aggregate needed variables for calculations\n",
    "N_POOLS = price_oracle_contract.N_POOLS()\n",
    "last_timestamp = price_oracle_contract.last_timestamp()\n",
    "block_timestamp = chain.provider.get_block(\"latest\").timestamp\n",
    "TVL_MA_TIME = price_oracle_contract.TVL_MA_TIME()\n",
    "\n",
    "# empty lists to store tvls in \n",
    "last_tvl = []\n",
    "last_tvl_new = []"
   ]
  },
  {
   "attachments": {},
   "cell_type": "markdown",
   "metadata": {},
   "source": [
    "## **EMA of TVL**\n",
    "\n",
    "`_ema_tvl()` calculates the exponential moving average of the total value locked of `TRICRYPTO[i]`. \n",
    "This value is later on used in the internal function `_raw_price()` to further compute the weighted price of the collateral.\n",
    "`_ema_tvl()` calculates the exponential moving average of the total value locked (TVL) for `TRICRYPTO[i]` and returns `last_tvl[i]`, which represents the Exponential Moving Average (EMA) of the TVL of the Tricrypto pool at index i. This variable is updated every time `price_w()` is called and $last_{timestamp} < block.timestamp$. If the latter condition is not met, it will simply return last_tvl.\n",
    "\n",
    "This function returns `last_tvl[i]`, which represents the ema tvl of the pool. This variable is updated everytime when calling `price_w()` and $last_{timestamp} < block.timestamp$.\n",
    "This value is subsequently used in the internal function `_raw_price()` to compute the weighted price of ETH.\n",
    "\n",
    "The function only re-calculates the ema tvl when $last_{timestamp} < block.timestamp$, otherwise it will just return `last_tvl` again as it is still the same timestamp. \n",
    "\n",
    "\n",
    "### *Calculate Smoothing Factor (α)*\n",
    "When calculating the smoothing factor $\\alpha$, the formula is converted to an int256 because `exp()` requires an int256 as input.\n",
    "When calculating the smoothing factor, represented as $\\alpha$, the formula is converted to an int256 type because the exp() function requires an int256 as its input."
   ]
  },
  {
   "cell_type": "code",
   "execution_count": 72,
   "metadata": {},
   "outputs": [],
   "source": [
    "# last_tvl stored in last_tvl list. this is used if last_timestamp < block_timestamp\n",
    "for i in range (0, N_POOLS):\n",
    "    x = price_oracle_contract.last_tvl(i)\n",
    "    last_tvl.append(x)\n",
    "\n",
    "\n",
    "# calculates new last_tvl and stores it in last_tvl_new list.\n",
    "if last_timestamp < block_timestamp:\n",
    "    # alpha is a smoothing factory for the tvls\n",
    "    alpha = float(math.exp(-(block_timestamp - last_timestamp) * 10**18 / TVL_MA_TIME))\n",
    "\n",
    "    for i in range(0, N_POOLS):\n",
    "        tri = ape.Contract(TRICRYPTO[i])\n",
    "        tvl = tri.totalSupply() * tri.virtual_price() / 10**18\n",
    "        last_tvl_calc = (tvl * (10**18 - alpha) + last_tvl[i] * alpha) / 10**18\n",
    "        last_tvl_new.append(last_tvl_calc)"
   ]
  },
  {
   "attachments": {},
   "cell_type": "markdown",
   "metadata": {},
   "source": [
    "## **Calculate Raw Price**\n",
    "\n",
    "This function requires `tvl` (which was calculated in the step above) and `agg_price` ((which essential is `STABLESWAP_AGGREGATOR.price()`) as input to calculate the raw price of the collateral.\n",
    "`_raw_price()` calculates the raw price of the collateral. The function requires the inputs `tvls` (from `_ema_tvl()`) and `agg_price` (from `STABLESWAP_AGGREGATOR.price()`)."
   ]
  },
  {
   "cell_type": "code",
   "execution_count": 73,
   "metadata": {},
   "outputs": [
    {
     "name": "stdout",
     "output_type": "stream",
     "text": [
      "1716.9376650854756\n"
     ]
    }
   ],
   "source": [
    "weighted_price = 0\n",
    "weights = 0\n",
    "\n",
    "\n",
    "for i in range(0, N_POOLS):\n",
    "    tri = ape.Contract(TRICRYPTO[i])\n",
    "    stable = ape.Contract(STABLESWAP[i])\n",
    "    p_crypto_r = tri.price_oracle(1)\n",
    "    p_stable_r = stable.price_oracle()\n",
    "    p_stable_agg = stable_agg.price()\n",
    "    if last_timestamp < block_timestamp:\n",
    "        weight = last_tvl_new[i]\n",
    "    else:\n",
    "        weight = last_tvl[i]\n",
    "    weights += weight\n",
    "\n",
    "    weighted_price += p_crypto_r * p_stable_agg / p_stable_r * weight\n",
    "\n",
    "p_eth = (weighted_price / weights) / 10**18\n",
    "print(p_eth)"
   ]
  },
  {
   "attachments": {},
   "cell_type": "markdown",
   "metadata": {},
   "source": [
    "Next, the price of stETH w.r.t ETH is capped. It's determined by taking the lesser value between the price of stETH in the curve pool and 1. This adjustment is necessary because if the stETH price in the pool exceeds 1, it creates an arbitrage opportunity. Traders could convert ETH for stETH at a 1:1 ratio and then sell it in the pool, which should push the exchange rate back down to 1.\n",
    "\n",
    "This limited value is then multiplied by `WSTETH.stEthPerToken()` which is the ratio of wsteth and steth.\n",
    "This capped value is then multiplied by `WSTETH.stEthPerToken()`, which represents the ratio between wstETH and stETH.\n",
    "\n",
    "Final step: the limited value of p_staked is then multiplied by the price of eth calculated above and then divided by the number of decimals ($10^{18}$).\n",
    "In the final step, the obtained value of `p_staked` is multiplied by the weighted price of ETH, as calculated earlier, and then divided by the number of decimals (represented by $10^{18}$."
   ]
  },
  {
   "cell_type": "code",
   "execution_count": 74,
   "metadata": {},
   "outputs": [],
   "source": [
    "p_staked = STAKEDSWAP.price_oracle()\n",
    "\n",
    "p_staked = min(p_staked, 10**18) * WSTETH.stEthPerToken() / 10**18\n",
    "\n",
    "p_final = p_staked * p_eth / 10**18"
   ]
  },
  {
   "cell_type": "code",
   "execution_count": 75,
   "metadata": {},
   "outputs": [
    {
     "name": "stdout",
     "output_type": "stream",
     "text": [
      "--------\n",
      "FINAL WSTETH PRICE:\n",
      "1953.2656279080861\n",
      "--------\n"
     ]
    }
   ],
   "source": [
    "print(\"--------\")\n",
    "print(\"FINAL WSTETH PRICE:\")\n",
    "print(p_final)\n",
    "print(\"--------\")"
   ]
  },
  {
   "attachments": {},
   "cell_type": "markdown",
   "metadata": {},
   "source": [
    "## **Chainlink Limits**\n",
    "\n",
    "The oracle contracts have the possibility to make use of chainlink prices which act as saftey limits. When toggled on, these limitations essentially hit when the chainlink price deviates more than 1.5% (`BOUND_SIZE`) from the internal price oracles.\n",
    "The oracle contracts have the option to utilize Chainlink prices, which serve as safety limits. When enabled, these limits are triggered if the Chainlink price deviates by more than 1.5% (represented by `BOUND_SIZE`) from the internal price oracles.\n",
    "\n",
    "Chainlink limits can be turned on and off by calling `set_use_chainlink(do_it: bool)`, which can only be done by the admin of the factory contract."
   ]
  },
  {
   "cell_type": "code",
   "execution_count": 76,
   "metadata": {},
   "outputs": [],
   "source": [
    "# chainlink limits\n"
   ]
  },
  {
   "cell_type": "code",
   "execution_count": 77,
   "metadata": {},
   "outputs": [],
   "source": [
    "# clear last_tvl_new list as its not needed anymore and needs to be empty to not fuck up the calculation when calling again\n",
    "last_tvl_new.clear()"
   ]
  }
 ],
 "metadata": {
  "kernelspec": {
   "display_name": ".venv-decode",
   "language": "python",
   "name": "python3"
  },
  "language_info": {
   "codemirror_mode": {
    "name": "ipython",
    "version": 3
   },
   "file_extension": ".py",
   "mimetype": "text/x-python",
   "name": "python",
   "nbconvert_exporter": "python",
   "pygments_lexer": "ipython3",
   "version": "3.11.4"
  },
  "orig_nbformat": 4
 },
 "nbformat": 4,
 "nbformat_minor": 2
}
